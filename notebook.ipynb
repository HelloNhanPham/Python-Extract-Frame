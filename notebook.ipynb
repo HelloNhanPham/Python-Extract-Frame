{
 "cells": [
  {
   "cell_type": "code",
   "execution_count": 3,
   "id": "f50f3e0b",
   "metadata": {},
   "outputs": [],
   "source": [
    "import cv2\n",
    "import os"
   ]
  },
  {
   "cell_type": "code",
   "execution_count": 8,
   "id": "2dfee4a9",
   "metadata": {},
   "outputs": [],
   "source": [
    "def frameCapture(file_path: str, output_path: str):\n",
    "    cap = cv2.VideoCapture(file_path)\n",
    "    frame_count = 0\n",
    "    while True:\n",
    "        ret, frame = cap.read()\n",
    "        if not ret:\n",
    "            break\n",
    "        cv2.imwrite(os.path.join(output_path, f\"frame_{frame_count}.jpg\"), frame)\n",
    "        frame_count += 1\n",
    "    cap.release()\n",
    "    cv2.destroyAllWindows()"
   ]
  },
  {
   "cell_type": "code",
   "execution_count": null,
   "id": "a65a1b92",
   "metadata": {},
   "outputs": [],
   "source": [
    "frameCapture(\"sample.mp4\", output_path='./frames')"
   ]
  },
  {
   "cell_type": "code",
   "execution_count": 11,
   "id": "24371a1b",
   "metadata": {},
   "outputs": [],
   "source": [
    "def remove_frames(frame_folder: str):\n",
    "    for filename in os.listdir(frame_folder):\n",
    "        if filename.endswith(\".jpg\"):\n",
    "            os.remove(os.path.join(frame_folder, filename))"
   ]
  },
  {
   "cell_type": "code",
   "execution_count": 12,
   "id": "b543ca1d",
   "metadata": {},
   "outputs": [],
   "source": [
    "remove_frames('./frames')"
   ]
  }
 ],
 "metadata": {
  "kernelspec": {
   "display_name": "Python (tensorflow_env)",
   "language": "python",
   "name": "tensorflow_env"
  },
  "language_info": {
   "codemirror_mode": {
    "name": "ipython",
    "version": 3
   },
   "file_extension": ".py",
   "mimetype": "text/x-python",
   "name": "python",
   "nbconvert_exporter": "python",
   "pygments_lexer": "ipython3",
   "version": "3.11.9"
  }
 },
 "nbformat": 4,
 "nbformat_minor": 5
}
